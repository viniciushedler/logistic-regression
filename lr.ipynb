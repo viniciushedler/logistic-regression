{
 "cells": [
  {
   "cell_type": "code",
   "execution_count": 1,
   "source": [
    "import plotly.express as px\r\n",
    "import pandas as pd\r\n",
    "import math.e"
   ],
   "outputs": [],
   "metadata": {}
  },
  {
   "cell_type": "code",
   "execution_count": null,
   "source": [
    "def split_data(df: pd.DataFrame, seed: int = 1):\r\n",
    "    training_data = df.sample(frac=0.7, random_state=seed)\r\n",
    "    testing_data = df.drop(training_data.index)\r\n",
    "    return (training_data, testing_data)"
   ],
   "outputs": [],
   "metadata": {}
  },
  {
   "cell_type": "code",
   "execution_count": null,
   "source": [
    "def find_linear_regression_line(df: pd.DataFrame, x_column: str, y_column: str):\r\n",
    "    numerator = 0\r\n",
    "    denominator = 0\r\n",
    "    x_mean = df[x_column].mean()\r\n",
    "    y_mean = df[y_column].mean()\r\n",
    "    for i in df.index:\r\n",
    "        numerator += (df[x_column][i]-x_mean)(df[y_column][i]-y_mean)\r\n",
    "        denominator += (df[x_column][i]-x_mean)^2\r\n",
    "    slope = numerator/denominator\r\n",
    "    intercept = (0, y_mean-slope*x_mean)\r\n",
    "    return (intercept, slope)"
   ],
   "outputs": [],
   "metadata": {}
  },
  {
   "cell_type": "code",
   "execution_count": null,
   "source": [
    "def apply_logistic_regression(df: pd.DataFrame, x_column: str, y_column: str, slope: float, intercept: float):\r\n",
    "    predicted_values = []\r\n",
    "    for i in df.index:\r\n",
    "        value_odds = 1/1+math.e^-(intercept+slope*df[x_column][i])\r\n",
    "        predicted_values.append(round(value_odds))\r\n",
    "    df[\"predicted_values\"] = predicted_values\r\n",
    "    return df"
   ],
   "outputs": [],
   "metadata": {}
  },
  {
   "cell_type": "code",
   "execution_count": null,
   "source": [
    "def create_confusion_matrix(df: pd.Dataframe, y_column: str):\r\n",
    "    true_positives = []\r\n",
    "    true_negatives = []\r\n",
    "    false_positives = []\r\n",
    "    false_negatives = []\r\n",
    "    for i in df.index:\r\n",
    "        if df[y_column][i] == df[\"predicted_value\"][i] == 1:\r\n",
    "            true_positives.append(i)\r\n",
    "        elif df[y_column][i] == df[\"predicted_value\"][i] == 0:\r\n",
    "            true_negatives.append(i)\r\n",
    "        elif df[y_column][i] != df[\"predicted_value\"][i] == 1:\r\n",
    "            false_positives.append(i)\r\n",
    "        elif df[y_column][i] != df[\"predicted_value\"][i] == 0:\r\n",
    "            false_negatives.append(i)\r\n",
    "        else:\r\n",
    "            raise ValueError(f\"Wtf in create confusion_matrix, i={i}\")\r\n",
    "    confusion_matrix = {\"true_positives\": [], \"true_negatives\":[], \"false_positives\":[], \"false_negatives\":[]}\r\n",
    "    return confusion_matrix"
   ],
   "outputs": [],
   "metadata": {}
  },
  {
   "cell_type": "code",
   "execution_count": null,
   "source": [
    "def create_linear_plot(df: pd.DataFrame):\r\n",
    "    "
   ],
   "outputs": [],
   "metadata": {}
  }
 ],
 "metadata": {
  "orig_nbformat": 4,
  "language_info": {
   "name": "python",
   "version": "3.8.5",
   "mimetype": "text/x-python",
   "codemirror_mode": {
    "name": "ipython",
    "version": 3
   },
   "pygments_lexer": "ipython3",
   "nbconvert_exporter": "python",
   "file_extension": ".py"
  },
  "kernelspec": {
   "name": "python3",
   "display_name": "Python 3.8.5 64-bit ('base': conda)"
  },
  "interpreter": {
   "hash": "b3ba2566441a7c06988d0923437866b63cedc61552a5af99d1f4fb67d367b25f"
  }
 },
 "nbformat": 4,
 "nbformat_minor": 2
}