{
 "cells": [
  {
   "cell_type": "markdown",
   "source": [
    "# Introdução\r\n",
    "\r\n",
    "A Regressão Linear é muito útil, porém não funciona para problemas de classificação. Um problema de classificação é quando se deseja classificar um objeto em uma de várias categorias através de uma ou mais características que se sabe sobre o objeto. \r\n",
    "\r\n",
    "Um exemplo simples deste tipo de problema é quando se deseja prever se uma pessoa é ou não obesa apenas sabendo seu peso. O gráfico abaixo contém as ocorrências de 80 pessoas que possuem um determinado peso e podem ou não ser obesas.\r\n",
    "\r\n",
    "INSERT grafico1\r\n",
    "\r\n",
    "Perceba que quando se aplica uma regressão linear nessa base para algumas pessoas é prevista uma probabilidade de ser obesa maior do que 1, o que é impossível.\r\n",
    "\r\n",
    "INSERT grafico2\r\n",
    "\r\n",
    "Para se evitar isto, existe a regressão logística, que produz um resultado muito mais adequado:\r\n",
    "\r\n",
    "INSERT grafico3"
   ],
   "metadata": {}
  },
  {
   "cell_type": "markdown",
   "source": [
    "# Como funciona\r\n",
    "A regressão logística é versão da regressão linear adequada a problemas de classificação. Para se adequar à este tipo de problema ao invés de prever quanto algo vai ser em uma escala contínua, a regressão logística prevê a probabilidade de algo se encaixar em uma categoria. Esta probabilidade, como qualquer outra, varia entre 0 e 1. para se manter dentro do contradomínio, a regressão logística usa a função Sigmóide:\r\n",
    "\r\n",
    "$ y = \\frac{1}{1+e^{-f(x)}} $\r\n",
    "\r\n",
    "A função Sigmóide tem o seu formato definido pela função $f(x)$, ou seja, para adequar a função logística do jeito desejado é necessário alterar a função $f(x)$. Uma função $f(x)$ simples utilizada na regressão logística é a seguinte função linear:\r\n",
    "\r\n",
    "$f(x) = w_0 + w_1x_1 + w_2x_2 + ... + w_nx_n$,\r\n",
    "\r\n",
    "onde cada $x_i$ é uma característica sendo observada e cada $w_i$ é um peso atribuido à característica $x_i$. Também são definidos $X_{n\\times 1} = [1, x_1, ..., x_n]$ e $W_{n\\times 1} = [w_0, w_1, ..., w_n]$. Assim sendo, tem-se que $f(x) = W^TX$\r\n",
    "\r\n",
    "Para já acostumar o leitor, vamos escrever a função Sigmóide da forma como ela será usada mais à frente:\r\n",
    "\r\n",
    "$ p(X) = \\frac{1}{1+e^{- W^T X}} $\r\n",
    "\r\n",
    "Dessa forma, o objetivo se torna encontrar a matriz $W$ que gera os resultados mais próximos do esperado. Para isto se faz necessária uma forma de analisar o resultado da matriz atual. O resultado da matriz é algo do tipo:\r\n",
    "\r\n",
    "INSERT grafico4\r\n",
    "\r\n",
    "Fica claro que há casos onde $p(X)$ (valor previsto) é igual ao $y$ (valor real). Uma das formas de calcular o acerto é através da fórmula de  INSERT (Máxima Verosemelhança?) NOME. Ela funciona da seguinte forma:\r\n",
    "\r\n",
    "\r\n",
    "1 Separa os objetos em objetos com $y=1$ e objetos com $y=0$. O $X$ de cada determinado objeto será aqui chamado apenas de $X$\r\n",
    "2 Para objetos com $y=1$, busca-se $W$ tal que $p(X)$ fique o mais próximo possível de 1\r\n",
    "3 Para objetos com $y=0$, busca-se $W$ tal que $p(X)$ fique o mais próximo possível de 0\r\n",
    "3* Em outras palavras, para objetos com $y=0$ busca-se $W$ tal que $1-p(X)$ fique o mais próximo possível de 1\r\n",
    "4 Ao se acumular as probabilidades, temos o produtório de ambos objetos com $y=1$ ou $y=0$ deve ser igual a 1 da seguinte forma:\r\n",
    "\r\n",
    "$ \\prod p(x) $ para $y=1$ e $ \\prod (1-p(x)) $ para $y=0$\r\n",
    "\r\n",
    "5 É possível juntar os dois produtórios, aplicando um expoente $y$ ou $y-1$ à cada um. O papel deste expoente é garantir que quando cada produtório somente tenha impacto quando for aplicável:\r\n",
    "\r\n",
    "$ L(W) = \\prod p(x)^{y}(1-p(x))^{(1-y)} $\r\n",
    "\r\n",
    "note que $y=1 \\implies (1-p(x))^{(1-y)}=1$ e $y=0 \\implies p(x)^y=1$\r\n",
    "\r\n",
    "Esta é função permite avaliar quão boa é a matriz $W$. Portanto, ao se maximizar esta função se otimiza a regressão logística! \r\n",
    "\r\n",
    "6 É possível trabalhar esta função aplicando $\\log{}$, que então transforma o produtório em somatório:\r\n",
    "\r\n",
    "$ \\log{L(W)} = \\log({\\prod p(X)^{y}(1-p(X))^{(1-y)}}) $\r\n",
    "\r\n",
    "$ l(W) = \\sum y\\log{p(X)}+(1-y)\\log({1-p(X)}) $\r\n",
    "\r\n",
    "7 Para continuar, é necessário expandir $p(X)$:\r\n",
    "\r\n",
    "$ l(W) = \\sum y\\log{\\frac{1}{1+e^{- W^T X}}}+(1-y)\\log({1-\\frac{1}{1+e^{- W^T X}}}) = \\sum y\\log{\\frac{1}{1+e^{- W^T X}}}+(1-y)\\log({\\frac{e^{- W^T X}}{1+e^{- W^T X}}})$\r\n",
    "\r\n",
    "8 Efetua-se a multiplicação $(1-y)\\log({\\frac{e^{- W^T X}}{1+e^{- W^T X}}})$:\r\n",
    "\r\n",
    "$ \\sum y\\log{\\frac{1}{1+e^{- W^T X}}}-y\\log({\\frac{e^{- W^T X}}{1+e^{- W^T X}}}) + \\log({\\frac{e^{- W^T X}}{1+e^{- W^T X}}}) $\r\n",
    "\r\n",
    "9 Agrupa-se onde há coeficiente $y$:\r\n",
    "\r\n",
    "$ \\sum y[\\log{\\frac{1}{1+e^{- W^T X}}}-\\log({\\frac{e^{- W^T X}}{1+e^{- W^T X}}})] + \\log({\\frac{e^{- W^T X}}{1+e^{- W^T X}}}) $ \r\n",
    "\r\n",
    "10 Utiliza-se a propriedade da subtração de dois logarítmos:\r\n",
    "\r\n",
    "$ \\sum y\\log({\\frac{1}{1+e^{- W^T X}}} * {\\frac{1+e^{- W^T X}}{e^{- W^T X}}}) + \\log({\\frac{e^{- W^T X}}{1+e^{- W^T X}}}) = \\sum y\\log({\\frac{1}{e^{- W^T X}}}) + \\log({\\frac{e^{- W^T X}}{1+e^{- W^T X}}})$ \r\n",
    "\r\n",
    "11 Altera-se as funções dentro dos logarítmos mantendo a igualdade:\r\n",
    "\r\n",
    "$ \\sum y\\log({\\frac{1}{e^{W^T X}}^{-1}}) + \\log({\\frac{e^{- W^T X}}{1+e^{- W^T X} \\prod \\frac{e^{W^T X}}{e^{W^T X}} }})  = \\sum y\\log({e^{W^T X}}) + \\log({\\frac{1}{1+e^{W^T X}}}) $\r\n",
    "\r\n",
    "12 Finalizando:\r\n",
    "\r\n",
    "$ l(W) = \\sum yW^T X - \\log({1+e^{W^T X}}) $ \r\n",
    "\r\n",
    "Assim, busca-se encontrar $W$ que maximiza $l(W)$"
   ],
   "metadata": {}
  },
  {
   "cell_type": "markdown",
   "source": [
    "## Algoritmo\r\n",
    "\r\n",
    "Idealmente seria possível encontrar o máximo de $l(W)$ de maneira \"simples\", porém a função em questão não é algébrica e sim transcendental. Isto ocorre por causa da função $\\log{}$, e significa que não é possível calcular seu máximo de maneira exata e \"instantânea\". Contudo existem métodos de aproximação, e o método aqui mostrado será o Método de Newton Raphson.\r\n",
    "\r\n",
    "O Método de Newton Raphson atua começando com uma variável independente arbitrária e então encontrando um novo valor para esta variável independente através da divisão do valor da função sendo analisada pela sua derivada:\r\n",
    "\r\n",
    "$  x_{n+1} = x_n- \\frac{\\partial f(x_n)}{\\partial f(x_n)}$"
   ],
   "metadata": {}
  },
  {
   "cell_type": "code",
   "execution_count": 2,
   "source": [
    "import pandas as pd\r\n",
    "import numpy as np\r\n",
    "import plotly.express as px"
   ],
   "outputs": [],
   "metadata": {}
  },
  {
   "cell_type": "code",
   "execution_count": 165,
   "source": [
    "class RegressaoLogistica:\r\n",
    "    def __init__(self, df_arq, y_observado, n_rep=20, t_apr=0.01):\r\n",
    "        self.carregar_dataframe(df_arq)\r\n",
    "        self.y_observado = y_observado\r\n",
    "        self.n_rep = n_rep\r\n",
    "        self.t_apr = t_apr\r\n",
    "        self.df[\"y_previsto\"] = 0\r\n",
    "        self.set_colunas_x(y_observado)\r\n",
    "        self.criar_W()\r\n",
    "        self.erros = []\r\n",
    "        \r\n",
    "        \r\n",
    "    def carregar_dataframe(self, df_arq):\r\n",
    "        self.df = pd.read_csv(df_arq)\r\n",
    "\r\n",
    "    def set_colunas_x(self, y_observado):\r\n",
    "        self.colunas_x = [ self.df.columns.get_loc(c) for c in self.df.columns if c not in (y_observado, \"y_previsto\")]\r\n",
    "\r\n",
    "    def sigmoide(self, x):\r\n",
    "        return 1/(1+np.e**(-x))\r\n",
    "\r\n",
    "    def criar_W(self):\r\n",
    "        self.W = np.full((len(self.colunas_x),1), 1)\r\n",
    "\r\n",
    "    def soma_ponderada(self, x_i, W):\r\n",
    "        return np.dot(x_i, W)\r\n",
    "\r\n",
    "    def probabilidade(self, x_i, W):\r\n",
    "        return self.sigmoide(self.soma_ponderada(x_i, W))\r\n",
    "\r\n",
    "    def funcao_erro(self, W, x_i, y_i):\r\n",
    "        tamanho = x_i.shape[0]\r\n",
    "        custo_total = -(1/tamanho)*np.sum(\r\n",
    "            y_i*np.log(self.probabilidade(x_i,W)) + (1-y_i)*np.log(1-self.probabilidade(x_i,W))\r\n",
    "            )\r\n",
    "        return custo_total\r\n",
    "\r\n",
    "    def gradiente(self, x_i):\r\n",
    "        tamanho = x_i.shape[0]\r\n",
    "        gradiente = (1/tamanho)*np.dot(x_i.T, self.probabilidade(x_i,self.W)-self.df[self.y_observado][0])\r\n",
    "        return gradiente\r\n",
    "\r\n",
    "    def geracao(self):\r\n",
    "        grad = 0\r\n",
    "        for i in self.df.index:\r\n",
    "            x_i = self.df.iloc[i, self.colunas_x]\r\n",
    "            self.df.at[i, \"y_esperado\"] = self.probabilidade( x_i, self.W )\r\n",
    "            grad += self.gradiente(x_i)\r\n",
    "        self.W -= grad\r\n",
    "        self.erros.append(self.funcao_erro)\r\n",
    "    \r\n",
    "    def main_loop(self):\r\n",
    "        for _ in range(self.n_rep):\r\n",
    "            self.geracao()\r\n",
    "        print(self.erros)\r\n",
    "        \r\n",
    "    \r\n",
    "    \r\n",
    "    \r\n",
    "    \r\n",
    "    \r\n",
    "\r\n",
    "        \r\n"
   ],
   "outputs": [],
   "metadata": {}
  },
  {
   "cell_type": "code",
   "execution_count": 166,
   "source": [
    "RL = RegressaoLogistica(\"diabetes.csv\", \"Outcome\")"
   ],
   "outputs": [],
   "metadata": {}
  },
  {
   "cell_type": "code",
   "execution_count": 167,
   "source": [
    "RL.main_loop()"
   ],
   "outputs": [
    {
     "output_type": "error",
     "ename": "ValueError",
     "evalue": "shapes (8,) and (1,) not aligned: 8 (dim 0) != 1 (dim 0)",
     "traceback": [
      "\u001b[1;31m---------------------------------------------------------------------------\u001b[0m",
      "\u001b[1;31mValueError\u001b[0m                                Traceback (most recent call last)",
      "\u001b[1;32m<ipython-input-167-dc1b565905c0>\u001b[0m in \u001b[0;36m<module>\u001b[1;34m\u001b[0m\n\u001b[1;32m----> 1\u001b[1;33m \u001b[0mRL\u001b[0m\u001b[1;33m.\u001b[0m\u001b[0mmain_loop\u001b[0m\u001b[1;33m(\u001b[0m\u001b[1;33m)\u001b[0m\u001b[1;33m\u001b[0m\u001b[1;33m\u001b[0m\u001b[0m\n\u001b[0m",
      "\u001b[1;32m<ipython-input-165-87f5339435d0>\u001b[0m in \u001b[0;36mmain_loop\u001b[1;34m(self)\u001b[0m\n\u001b[0;32m     52\u001b[0m     \u001b[1;32mdef\u001b[0m \u001b[0mmain_loop\u001b[0m\u001b[1;33m(\u001b[0m\u001b[0mself\u001b[0m\u001b[1;33m)\u001b[0m\u001b[1;33m:\u001b[0m\u001b[1;33m\u001b[0m\u001b[1;33m\u001b[0m\u001b[0m\n\u001b[0;32m     53\u001b[0m         \u001b[1;32mfor\u001b[0m \u001b[0m_\u001b[0m \u001b[1;32min\u001b[0m \u001b[0mrange\u001b[0m\u001b[1;33m(\u001b[0m\u001b[0mself\u001b[0m\u001b[1;33m.\u001b[0m\u001b[0mn_rep\u001b[0m\u001b[1;33m)\u001b[0m\u001b[1;33m:\u001b[0m\u001b[1;33m\u001b[0m\u001b[1;33m\u001b[0m\u001b[0m\n\u001b[1;32m---> 54\u001b[1;33m             \u001b[0mself\u001b[0m\u001b[1;33m.\u001b[0m\u001b[0mgeracao\u001b[0m\u001b[1;33m(\u001b[0m\u001b[1;33m)\u001b[0m\u001b[1;33m\u001b[0m\u001b[1;33m\u001b[0m\u001b[0m\n\u001b[0m\u001b[0;32m     55\u001b[0m         \u001b[0mprint\u001b[0m\u001b[1;33m(\u001b[0m\u001b[0mself\u001b[0m\u001b[1;33m.\u001b[0m\u001b[0merros\u001b[0m\u001b[1;33m)\u001b[0m\u001b[1;33m\u001b[0m\u001b[1;33m\u001b[0m\u001b[0m\n\u001b[0;32m     56\u001b[0m \u001b[1;33m\u001b[0m\u001b[0m\n",
      "\u001b[1;32m<ipython-input-165-87f5339435d0>\u001b[0m in \u001b[0;36mgeracao\u001b[1;34m(self)\u001b[0m\n\u001b[0;32m     46\u001b[0m             \u001b[0mx_i\u001b[0m \u001b[1;33m=\u001b[0m \u001b[0mself\u001b[0m\u001b[1;33m.\u001b[0m\u001b[0mdf\u001b[0m\u001b[1;33m.\u001b[0m\u001b[0miloc\u001b[0m\u001b[1;33m[\u001b[0m\u001b[0mi\u001b[0m\u001b[1;33m,\u001b[0m \u001b[0mself\u001b[0m\u001b[1;33m.\u001b[0m\u001b[0mcolunas_x\u001b[0m\u001b[1;33m]\u001b[0m\u001b[1;33m\u001b[0m\u001b[1;33m\u001b[0m\u001b[0m\n\u001b[0;32m     47\u001b[0m             \u001b[0mself\u001b[0m\u001b[1;33m.\u001b[0m\u001b[0mdf\u001b[0m\u001b[1;33m.\u001b[0m\u001b[0mat\u001b[0m\u001b[1;33m[\u001b[0m\u001b[0mi\u001b[0m\u001b[1;33m,\u001b[0m \u001b[1;34m\"y_esperado\"\u001b[0m\u001b[1;33m]\u001b[0m \u001b[1;33m=\u001b[0m \u001b[0mself\u001b[0m\u001b[1;33m.\u001b[0m\u001b[0mprobabilidade\u001b[0m\u001b[1;33m(\u001b[0m \u001b[0mx_i\u001b[0m\u001b[1;33m,\u001b[0m \u001b[0mself\u001b[0m\u001b[1;33m.\u001b[0m\u001b[0mW\u001b[0m \u001b[1;33m)\u001b[0m\u001b[1;33m\u001b[0m\u001b[1;33m\u001b[0m\u001b[0m\n\u001b[1;32m---> 48\u001b[1;33m             \u001b[0mgrad\u001b[0m \u001b[1;33m+=\u001b[0m \u001b[0mself\u001b[0m\u001b[1;33m.\u001b[0m\u001b[0mgradiente\u001b[0m\u001b[1;33m(\u001b[0m\u001b[0mx_i\u001b[0m\u001b[1;33m)\u001b[0m\u001b[1;33m\u001b[0m\u001b[1;33m\u001b[0m\u001b[0m\n\u001b[0m\u001b[0;32m     49\u001b[0m         \u001b[0mself\u001b[0m\u001b[1;33m.\u001b[0m\u001b[0mW\u001b[0m \u001b[1;33m-=\u001b[0m \u001b[0mgrad\u001b[0m\u001b[1;33m\u001b[0m\u001b[1;33m\u001b[0m\u001b[0m\n\u001b[0;32m     50\u001b[0m         \u001b[0mself\u001b[0m\u001b[1;33m.\u001b[0m\u001b[0merros\u001b[0m\u001b[1;33m.\u001b[0m\u001b[0mappend\u001b[0m\u001b[1;33m(\u001b[0m\u001b[0mself\u001b[0m\u001b[1;33m.\u001b[0m\u001b[0mfuncao_erro\u001b[0m\u001b[1;33m)\u001b[0m\u001b[1;33m\u001b[0m\u001b[1;33m\u001b[0m\u001b[0m\n",
      "\u001b[1;32m<ipython-input-165-87f5339435d0>\u001b[0m in \u001b[0;36mgradiente\u001b[1;34m(self, x_i)\u001b[0m\n\u001b[0;32m     38\u001b[0m     \u001b[1;32mdef\u001b[0m \u001b[0mgradiente\u001b[0m\u001b[1;33m(\u001b[0m\u001b[0mself\u001b[0m\u001b[1;33m,\u001b[0m \u001b[0mx_i\u001b[0m\u001b[1;33m)\u001b[0m\u001b[1;33m:\u001b[0m\u001b[1;33m\u001b[0m\u001b[1;33m\u001b[0m\u001b[0m\n\u001b[0;32m     39\u001b[0m         \u001b[0mtamanho\u001b[0m \u001b[1;33m=\u001b[0m \u001b[0mx_i\u001b[0m\u001b[1;33m.\u001b[0m\u001b[0mshape\u001b[0m\u001b[1;33m[\u001b[0m\u001b[1;36m0\u001b[0m\u001b[1;33m]\u001b[0m\u001b[1;33m\u001b[0m\u001b[1;33m\u001b[0m\u001b[0m\n\u001b[1;32m---> 40\u001b[1;33m         \u001b[0mgradiente\u001b[0m \u001b[1;33m=\u001b[0m \u001b[1;33m(\u001b[0m\u001b[1;36m1\u001b[0m\u001b[1;33m/\u001b[0m\u001b[0mtamanho\u001b[0m\u001b[1;33m)\u001b[0m\u001b[1;33m*\u001b[0m\u001b[0mnp\u001b[0m\u001b[1;33m.\u001b[0m\u001b[0mdot\u001b[0m\u001b[1;33m(\u001b[0m\u001b[0mx_i\u001b[0m\u001b[1;33m.\u001b[0m\u001b[0mT\u001b[0m\u001b[1;33m,\u001b[0m \u001b[0mself\u001b[0m\u001b[1;33m.\u001b[0m\u001b[0mprobabilidade\u001b[0m\u001b[1;33m(\u001b[0m\u001b[0mx_i\u001b[0m\u001b[1;33m,\u001b[0m\u001b[0mself\u001b[0m\u001b[1;33m.\u001b[0m\u001b[0mW\u001b[0m\u001b[1;33m)\u001b[0m\u001b[1;33m-\u001b[0m\u001b[0mself\u001b[0m\u001b[1;33m.\u001b[0m\u001b[0mdf\u001b[0m\u001b[1;33m[\u001b[0m\u001b[0mself\u001b[0m\u001b[1;33m.\u001b[0m\u001b[0my_observado\u001b[0m\u001b[1;33m]\u001b[0m\u001b[1;33m[\u001b[0m\u001b[1;36m0\u001b[0m\u001b[1;33m]\u001b[0m\u001b[1;33m)\u001b[0m\u001b[1;33m\u001b[0m\u001b[1;33m\u001b[0m\u001b[0m\n\u001b[0m\u001b[0;32m     41\u001b[0m         \u001b[1;32mreturn\u001b[0m \u001b[0mgradiente\u001b[0m\u001b[1;33m\u001b[0m\u001b[1;33m\u001b[0m\u001b[0m\n\u001b[0;32m     42\u001b[0m \u001b[1;33m\u001b[0m\u001b[0m\n",
      "\u001b[1;32m<__array_function__ internals>\u001b[0m in \u001b[0;36mdot\u001b[1;34m(*args, **kwargs)\u001b[0m\n",
      "\u001b[1;31mValueError\u001b[0m: shapes (8,) and (1,) not aligned: 8 (dim 0) != 1 (dim 0)"
     ]
    }
   ],
   "metadata": {}
  },
  {
   "cell_type": "code",
   "execution_count": 110,
   "source": [
    "W = np.random.rand(4,1)\r\n",
    "X = np.random.rand(4,1)\r\n"
   ],
   "outputs": [],
   "metadata": {}
  },
  {
   "cell_type": "code",
   "execution_count": 115,
   "source": [
    "d = (np.dot(W.T,X)-sigmoide(np.dot(W.T,X)))*X"
   ],
   "outputs": [],
   "metadata": {}
  },
  {
   "cell_type": "code",
   "execution_count": 116,
   "source": [
    "d"
   ],
   "outputs": [
    {
     "output_type": "execute_result",
     "data": {
      "text/plain": [
       "array([[0.20281812],\n",
       "       [0.05881949],\n",
       "       [0.07727356],\n",
       "       [0.11916773]])"
      ]
     },
     "metadata": {},
     "execution_count": 116
    }
   ],
   "metadata": {}
  }
 ],
 "metadata": {
  "orig_nbformat": 4,
  "language_info": {
   "name": "python",
   "version": "3.8.5",
   "mimetype": "text/x-python",
   "codemirror_mode": {
    "name": "ipython",
    "version": 3
   },
   "pygments_lexer": "ipython3",
   "nbconvert_exporter": "python",
   "file_extension": ".py"
  },
  "kernelspec": {
   "name": "python3",
   "display_name": "Python 3.8.5 64-bit ('base': conda)"
  },
  "interpreter": {
   "hash": "b3ba2566441a7c06988d0923437866b63cedc61552a5af99d1f4fb67d367b25f"
  }
 },
 "nbformat": 4,
 "nbformat_minor": 2
}